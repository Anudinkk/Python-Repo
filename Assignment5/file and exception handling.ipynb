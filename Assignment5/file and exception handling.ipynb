{
 "cells": [
  {
   "cell_type": "code",
   "execution_count": 2,
   "id": "c5a19fb0-18ff-4be0-81cb-85861f591c90",
   "metadata": {},
   "outputs": [
    {
     "data": {
      "text/plain": [
       "'Data science is the process of collecting, analyzing, and interpreting large volumes of data to uncover patterns and make informed decisions. It combines techniques from statistics, machine learning, and programming to extract meaningful insights. Using tools like Python, R, SQL, and cloud computing, data scientists work with structured and unstructured data across various industries, including healthcare, finance, and marketing. Key concepts in data science include data preprocessing, predictive modeling, and artificial intelligence. As organizations increasingly rely on data-driven strategies, the demand for skilled data scientists continues to grow, making it a vital field for innovation and problem-solving.'"
      ]
     },
     "execution_count": 2,
     "metadata": {},
     "output_type": "execute_result"
    }
   ],
   "source": [
    "# Write a Python program to read a file and display its contents\n",
    "\n",
    "file = open(\"Data.txt\",\"r\")\n",
    "file.read()"
   ]
  },
  {
   "cell_type": "code",
   "execution_count": null,
   "id": "592c4ea0-c8e7-49c4-829b-bcad5dae7c3d",
   "metadata": {},
   "outputs": [],
   "source": []
  },
  {
   "cell_type": "code",
   "execution_count": 8,
   "id": "2c2558a5-91bc-40da-a0db-6b6d3c58c88a",
   "metadata": {},
   "outputs": [],
   "source": [
    "# Write a Python program to copy the contents of one file to another file\n",
    "\n",
    "with open(\"Data.txt\",\"r\") as source, open(\"Destination.txt\",\"w\") as destination:\n",
    "    destination.write(source.read())"
   ]
  },
  {
   "cell_type": "code",
   "execution_count": 7,
   "id": "5d5e0a20-5796-476b-844b-8a2dcdeb0194",
   "metadata": {},
   "outputs": [
    {
     "data": {
      "text/plain": [
       "'Data science is the process of collecting, analyzing, and interpreting large volumes of data to uncover patterns and make informed decisions. It combines techniques from statistics, machine learning, and programming to extract meaningful insights. Using tools like Python, R, SQL, and cloud computing, data scientists work with structured and unstructured data across various industries, including healthcare, finance, and marketing. Key concepts in data science include data preprocessing, predictive modeling, and artificial intelligence. As organizations increasingly rely on data-driven strategies, the demand for skilled data scientists continues to grow, making it a vital field for innovation and problem-solving.'"
      ]
     },
     "execution_count": 7,
     "metadata": {},
     "output_type": "execute_result"
    }
   ],
   "source": [
    "d = open(\"Destination.txt\",\"r\")\n",
    "d.read()"
   ]
  },
  {
   "cell_type": "code",
   "execution_count": null,
   "id": "7a6aea33-4add-46e9-88ad-02ad81e0ffba",
   "metadata": {},
   "outputs": [],
   "source": []
  },
  {
   "cell_type": "code",
   "execution_count": 18,
   "id": "a5090808-8a25-4902-9b2e-3d263d9ff09a",
   "metadata": {},
   "outputs": [
    {
     "data": {
      "text/plain": [
       "97"
      ]
     },
     "execution_count": 18,
     "metadata": {},
     "output_type": "execute_result"
    }
   ],
   "source": [
    "# Write a Python program to read the content of a file and count the total number of words in that file.\n",
    "\n",
    "try:\n",
    "    def count_words():\n",
    "        file = open(\"Data.txt\",\"r\")\n",
    "        content = file.read()\n",
    "        words = content.split()\n",
    "        # print(words)\n",
    "        return(len(words))\n",
    "except:\n",
    "    print(\"Something went wrong\")\n",
    "\n",
    "\n",
    "count_words()\n"
   ]
  },
  {
   "cell_type": "code",
   "execution_count": null,
   "id": "ade7d715-2a34-49a1-8bea-9a91ed4f3fba",
   "metadata": {},
   "outputs": [],
   "source": []
  },
  {
   "cell_type": "code",
   "execution_count": 20,
   "id": "5f92d1ac-beb0-4446-96f0-f89f2b547e96",
   "metadata": {},
   "outputs": [
    {
     "name": "stdin",
     "output_type": "stream",
     "text": [
      "Enter the number :  65\n"
     ]
    },
    {
     "name": "stdout",
     "output_type": "stream",
     "text": [
      "number is :  65\n"
     ]
    }
   ],
   "source": [
    "# Write a Python program that prompts the user to input a string and converts it to an integer.\n",
    "# Use try-except blocks to handle any exceptions that might occur\n",
    "\n",
    "try:\n",
    "    def convert_to_integer():\n",
    "        str1 = input(\"Enter the number : \")\n",
    "        to_num = int(str1)\n",
    "        print(\"number is : \",to_num)\n",
    "except:\n",
    "     print(\"Something went wrong\")\n",
    "\n",
    "convert_to_integer()\n"
   ]
  },
  {
   "cell_type": "code",
   "execution_count": null,
   "id": "c3daa4b6-a30e-4f12-b6d4-3d5a9541a43e",
   "metadata": {},
   "outputs": [],
   "source": []
  },
  {
   "cell_type": "code",
   "execution_count": null,
   "id": "8d85bced-16b1-4172-8ece-2f103fa8be65",
   "metadata": {},
   "outputs": [],
   "source": [
    "# Write a Python program that prompts the user to input a list of integers and raises an exception if any of the integers in the list are negative."
   ]
  },
  {
   "cell_type": "code",
   "execution_count": 32,
   "id": "c68b5e2a-c73f-4e15-a934-8eb020331a9e",
   "metadata": {},
   "outputs": [
    {
     "name": "stdin",
     "output_type": "stream",
     "text": [
      "Enter the no.of element :  2\n",
      "enter the number :  1\n",
      "enter the number :  -4\n"
     ]
    },
    {
     "name": "stdout",
     "output_type": "stream",
     "text": [
      "\n",
      " Negative number found\n"
     ]
    }
   ],
   "source": [
    "try:\n",
    "    user_input = []\n",
    "    n = int(input(\"Enter the no.of element : \"))\n",
    "    for i in range(n):\n",
    "        num = int(input(\"enter the number : \"))\n",
    "        if num < 0:\n",
    "            raise ValueError\n",
    "        else:\n",
    "            user_input.append(num)\n",
    "    print(\"\\n All numbers are positive\")\n",
    "    \n",
    "except ValueError:\n",
    "    print(\"\\n Negative number found\")\n",
    "    "
   ]
  },
  {
   "cell_type": "code",
   "execution_count": null,
   "id": "5715b207-0c12-4cdc-98a1-0542b0c99c8e",
   "metadata": {},
   "outputs": [],
   "source": []
  },
  {
   "cell_type": "code",
   "execution_count": 39,
   "id": "e0cd7819-cf06-438a-a866-e271630765bf",
   "metadata": {},
   "outputs": [
    {
     "name": "stdin",
     "output_type": "stream",
     "text": [
      "Enter a list of integers separated by spaces:  5 10 15 12 8\n"
     ]
    },
    {
     "name": "stdout",
     "output_type": "stream",
     "text": [
      "Average of integers in the list :  10.0\n",
      "program has finished running\n"
     ]
    }
   ],
   "source": [
    "# Write a Python program that prompts the user to input a list of integers and computes the average of those integers. \n",
    "# Use try-except blocks to handle any exceptions that might occur.use the finally clause to print a message indicating that the program has\n",
    "# finished running.\n",
    "\n",
    "try:\n",
    "    user_input = input(\"Enter a list of integers separated by spaces: \")  \n",
    "    numbers = [] \n",
    "    for num in user_input.split(): \n",
    "        numbers.append(int(num))  \n",
    "\n",
    "    if(len(numbers)>0):\n",
    "        avg = sum(numbers) / len(numbers)\n",
    "        print(\"Average of integers in the list : \",avg)\n",
    "        \n",
    "except:\n",
    "    print(\"Something went wrong\")\n",
    "finally:\n",
    "    print(\"program has finished running\")\n"
   ]
  },
  {
   "cell_type": "code",
   "execution_count": null,
   "id": "b7812d21-a0c6-46c5-813e-a92f36bc2b3f",
   "metadata": {},
   "outputs": [],
   "source": []
  },
  {
   "cell_type": "code",
   "execution_count": 49,
   "id": "3025fe5c-988c-419a-840b-a863495bc73e",
   "metadata": {},
   "outputs": [
    {
     "name": "stdin",
     "output_type": "stream",
     "text": [
      "Enter the filename :  file\n",
      "Enter the message :  hello world\n"
     ]
    },
    {
     "name": "stdout",
     "output_type": "stream",
     "text": [
      "\n",
      " hello world\n"
     ]
    }
   ],
   "source": [
    "# Write a Python program that prompts the user to input a filename and writes a string to that file. Use try-except blocks to handle any exceptions \n",
    "# that might occur and print a welcome message if there is no exception occurred.\n",
    "\n",
    "try:\n",
    "    filename = input(\"Enter the filename : \")\n",
    "    message = input(\"Enter the message : \")\n",
    "    # print(filename+\".txt\")\n",
    "    with open(filename+\".txt\",\"w\") as f:\n",
    "        f.write(message)\n",
    "\n",
    "    with open(filename+\".txt\",\"r\") as file:\n",
    "        content = file.read()\n",
    "    print(\"\\n\",content)\n",
    "    \n",
    "except:\n",
    "    print(\"something went wrong\")"
   ]
  }
 ],
 "metadata": {
  "kernelspec": {
   "display_name": "Python 3 (ipykernel)",
   "language": "python",
   "name": "python3"
  },
  "language_info": {
   "codemirror_mode": {
    "name": "ipython",
    "version": 3
   },
   "file_extension": ".py",
   "mimetype": "text/x-python",
   "name": "python",
   "nbconvert_exporter": "python",
   "pygments_lexer": "ipython3",
   "version": "3.13.2"
  }
 },
 "nbformat": 4,
 "nbformat_minor": 5
}
