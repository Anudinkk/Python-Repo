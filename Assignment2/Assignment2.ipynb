{
 "cells": [
  {
   "cell_type": "code",
   "execution_count": 23,
   "id": "f6b7bfc1-eed6-45ed-b60d-99222b934bf3",
   "metadata": {},
   "outputs": [
    {
     "name": "stdout",
     "output_type": "stream",
     "text": [
      "list :  [44, 21, 8, 86, 14]\n",
      "updated list :  [44, 21, 8, 86, 14, 24, 52, 98]\n",
      "44\n",
      "21\n",
      "8\n",
      "86\n",
      "14\n",
      "24\n",
      "52\n",
      "98\n"
     ]
    }
   ],
   "source": [
    "#List Exercise\n",
    "\n",
    "#Q1. Create a list of 5 random numbers and print the list. \n",
    "Lst = list([44,21,8,86,14])\n",
    "print(\"list : \",Lst)\n",
    "\n",
    "#Q2. Insert 3 new values to the list and print the updated list. \n",
    "Lst.append(24)\n",
    "Lst.append(52)\n",
    "Lst.append(98)\n",
    "\n",
    "print(\"updated list : \",Lst)\n",
    "\n",
    "#Q3. Try to use a for loop to print each element in the list. \n",
    "for i in range(len(Lst)):\n",
    "    print(Lst[i])\n",
    "\n"
   ]
  },
  {
   "cell_type": "code",
   "execution_count": 24,
   "id": "c7d0664c-19ef-4fd7-b810-549333f3b917",
   "metadata": {},
   "outputs": [
    {
     "name": "stdout",
     "output_type": "stream",
     "text": [
      "dictionary :  {'name': 'John', 'age': 25, 'address': 'New York'}\n",
      "updated dictionary :  {'name': 'John', 'age': 25, 'address': 'New York', 'phone': 1234567890}\n"
     ]
    }
   ],
   "source": [
    "#Topic: Dictionary Exercise \n",
    "\n",
    "#Q1. Create a dictionary with keys 'name', 'age', and 'address' and values 'John', 25, and 'New York' respectively. \n",
    "Dct = {\"name\":\"John\",\"age\":25,\"address\":\"New York\"}\n",
    "print(\"dictionary : \",Dct)\n",
    "\n",
    "#Q2. Add a new key-value pair to the dictionary created in Q1 with key 'phone' and value '1234567890'. \n",
    "Dct[\"phone\"]=1234567890\n",
    "print(\"updated dictionary : \",Dct)\n"
   ]
  },
  {
   "cell_type": "code",
   "execution_count": 31,
   "id": "ea2523aa-2396-474e-a33c-bf95aa8ca15f",
   "metadata": {},
   "outputs": [
    {
     "name": "stdout",
     "output_type": "stream",
     "text": [
      "set elements are :  {1, 2, 3, 4, 5}\n",
      "update set elements are :  {1, 2, 3, 4, 5, 6}\n",
      "set elements after removing :  {1, 2, 4, 5, 6}\n"
     ]
    }
   ],
   "source": [
    "#Topic: Set Exercise \n",
    "\n",
    "#Q1.Create a set with values 1, 2, 3, 4, and 5.\n",
    "St={1,2,3,4,5}\n",
    "print(\"set elements are : \",St)\n",
    "\n",
    "#Q2. Add the value 6 to the set created in Q1.\n",
    "St.add(6)\n",
    "print(\"update set elements are : \",St)\n",
    "\n",
    "#Q3. Remove the value 3 from the set created in Q1. \n",
    "St.remove(3)\n",
    "print(\"set elements after removing : \",St)\n"
   ]
  },
  {
   "cell_type": "code",
   "execution_count": 34,
   "id": "b040af6a-8112-4664-bbdb-1ade273e4445",
   "metadata": {},
   "outputs": [
    {
     "name": "stdout",
     "output_type": "stream",
     "text": [
      "Tuple :  (1, 2, 3, 4)\n",
      "length of tuple is 4\n"
     ]
    }
   ],
   "source": [
    "#Topic:Tuple Exercise \n",
    "\n",
    "#Q1. Create a tuple with values 1, 2, 3, and 4 \n",
    "Tp=1,2,3,4\n",
    "print(\"Tuple : \",Tp)\n",
    "\n",
    "#Q2. Print the length of the tuple created in Q1.\n",
    "print(\"length of tuple is\",len(Tp))\n"
   ]
  },
  {
   "cell_type": "code",
   "execution_count": null,
   "id": "1826f529-732d-4c3b-87e9-4f15e8b840ab",
   "metadata": {},
   "outputs": [],
   "source": []
  }
 ],
 "metadata": {
  "kernelspec": {
   "display_name": "Python 3 (ipykernel)",
   "language": "python",
   "name": "python3"
  },
  "language_info": {
   "codemirror_mode": {
    "name": "ipython",
    "version": 3
   },
   "file_extension": ".py",
   "mimetype": "text/x-python",
   "name": "python",
   "nbconvert_exporter": "python",
   "pygments_lexer": "ipython3",
   "version": "3.13.2"
  }
 },
 "nbformat": 4,
 "nbformat_minor": 5
}
