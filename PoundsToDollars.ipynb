{
 "cells": [
  {
   "cell_type": "code",
   "execution_count": 3,
   "id": "cbc8927a-208d-425d-84b2-6f4109a4e4d4",
   "metadata": {},
   "outputs": [
    {
     "name": "stdin",
     "output_type": "stream",
     "text": [
      "Please enter amount in pounds:  £ 100\n"
     ]
    },
    {
     "name": "stdout",
     "output_type": "stream",
     "text": [
      "100.0 £ are $ 125.0\n"
     ]
    }
   ],
   "source": [
    "#Name your file: PoundsToDollars.py Write a program that asks the user to enter an amount in pounds (£) and the program \n",
    "#calculates and converts an amount in dollar ($) An example runs of the program: Please enter amount in pounds: XXX £ XXX are $ XXX\n",
    "\n",
    "\n",
    "pounds = float(input(\"Please enter amount in pounds:  £\"))\n",
    "exchange_rate = 1.25\n",
    "\n",
    "dollar = pounds * exchange_rate\n",
    "print(\"£\",pounds,\"are $\",dollar)\n",
    "               "
   ]
  }
 ],
 "metadata": {
  "kernelspec": {
   "display_name": "Python 3 (ipykernel)",
   "language": "python",
   "name": "python3"
  },
  "language_info": {
   "codemirror_mode": {
    "name": "ipython",
    "version": 3
   },
   "file_extension": ".py",
   "mimetype": "text/x-python",
   "name": "python",
   "nbconvert_exporter": "python",
   "pygments_lexer": "ipython3",
   "version": "3.13.2"
  }
 },
 "nbformat": 4,
 "nbformat_minor": 5
}
