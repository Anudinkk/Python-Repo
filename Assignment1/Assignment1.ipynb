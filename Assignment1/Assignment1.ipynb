{
 "cells": [
  {
   "cell_type": "code",
   "execution_count": 4,
   "id": "06aa1b1c-9734-4ec2-873c-5caaa8842e71",
   "metadata": {},
   "outputs": [
    {
     "name": "stdout",
     "output_type": "stream",
     "text": [
      "Anudin ST1001 anudin@gmail.com\n"
     ]
    }
   ],
   "source": [
    "#Write Python code that prints your name, student number and email address.\n",
    "\n",
    "name=\"Anudin\"\n",
    "Sno=\"ST1001\"\n",
    "email=\"anudin@gmail.com\"\n",
    "\n",
    "print(name,Sno,email)"
   ]
  },
  {
   "cell_type": "code",
   "execution_count": 27,
   "id": "5567b2c5-b5a4-4167-9da5-599727f0ce42",
   "metadata": {},
   "outputs": [
    {
     "name": "stdout",
     "output_type": "stream",
     "text": [
      "Anudin\tST1001\tanudin@gmail.com\n"
     ]
    }
   ],
   "source": [
    "#Write Python code that prints your name, student number and email address using escape sequences.\n",
    "\n",
    "print(name,Sno,email,sep=\"\\t\")\n"
   ]
  },
  {
   "cell_type": "code",
   "execution_count": 33,
   "id": "88f18283-8cfc-4005-b8e6-0f683ef03327",
   "metadata": {},
   "outputs": [
    {
     "name": "stdout",
     "output_type": "stream",
     "text": [
      "addition =  15\n",
      "subtraction =  5\n",
      "multiplication =  50\n",
      "division =  2.0\n"
     ]
    }
   ],
   "source": [
    "#Write Python code that add, subtract, multiply and divide the two numbers.\n",
    "\n",
    "num1=10\n",
    "num2=5\n",
    "\n",
    "add=num1+num2\n",
    "print(\"addition = \",add)\n",
    "\n",
    "sub=num1-num2\n",
    "print(\"subtraction = \",sub)\n",
    "\n",
    "mul=num1*num2\n",
    "print(\"multiplication = \",mul)\n",
    "\n",
    "div=num1/num2\n",
    "print(\"division = \",div)"
   ]
  },
  {
   "cell_type": "code",
   "execution_count": 36,
   "id": "328e07ae-4ef9-47d0-bdf2-50035be91036",
   "metadata": {},
   "outputs": [
    {
     "name": "stdout",
     "output_type": "stream",
     "text": [
      "\n",
      "        1\n",
      "            2\n",
      "                3\n",
      "                    4\n",
      "                        5\n",
      "    \n"
     ]
    }
   ],
   "source": [
    "#Write Python code that displays the numbers from 1 to 5 as steps.\n",
    "\n",
    "print(\"\"\"\n",
    "        1\n",
    "            2\n",
    "                3\n",
    "                    4\n",
    "                        5\n",
    "    \"\"\")"
   ]
  },
  {
   "cell_type": "code",
   "execution_count": 38,
   "id": "660f84ba-a7c7-41a4-89a9-38c33e0be39f",
   "metadata": {},
   "outputs": [
    {
     "name": "stdout",
     "output_type": "stream",
     "text": [
      " \"SDK\" stands for \"Software Development Kit\", whereas \n",
      " \"IDE\" stands for \"Integrated Development Environment\".\n"
     ]
    }
   ],
   "source": [
    "#Write Python code that outputs the following sentence (including the quotation marks and line break) to the screen: \n",
    "#An example runs of the program: \"SDK\" stands for \"Software Development Kit\", whereas \"IDE\" stands for \"Integrated Development Environment\".\n",
    "\n",
    "print(' \"SDK\" stands for \"Software Development Kit\", whereas \\n \"IDE\" stands for \"Integrated Development Environment\".')\n"
   ]
  },
  {
   "cell_type": "code",
   "execution_count": 24,
   "id": "5736f01b-e4b8-416d-951a-8674f6b62953",
   "metadata": {},
   "outputs": [
    {
     "name": "stdout",
     "output_type": "stream",
     "text": [
      "python is an \"awesome\" language.\n",
      "python\n",
      "\t2023\n",
      "I'm from Entri\n",
      "5\n",
      "e\n",
      "Entri\n",
      "2023\n",
      "Entr2023\n",
      "Entri*"
     ]
    }
   ],
   "source": [
    "#Practice and check the output \n",
    "\n",
    "print(\"python is an \\\"awesome\\\" language.\") \n",
    "print(\"python\\n\\t2023\") \n",
    "print('I\\'m from Entri.\\b') \n",
    "print(\"\\65\") \n",
    "print(\"\\x65\") \n",
    "print(\"Entri\", \"2023\", sep=\"\\n\") \n",
    "print(\"Entri\", \"2023\", sep=\"\\b\")\n",
    "print(\"Entri\", \"2023\", sep=\"*\", end=\"\\b\\b\\b\\b\")\n",
    "\n"
   ]
  },
  {
   "cell_type": "code",
   "execution_count": 48,
   "id": "d83b4a1b-b7f1-4252-8350-abfc971d31c8",
   "metadata": {},
   "outputs": [
    {
     "name": "stdout",
     "output_type": "stream",
     "text": [
      "type of num <class 'int'>\n",
      "type of textnum <class 'str'>\n",
      "type of decimal <class 'float'>\n",
      "178.3\n",
      "type of sum <class 'float'>\n"
     ]
    }
   ],
   "source": [
    "#Define the variables below. Print the types of each variable. What is the sum of your variables? \n",
    "#(Hint: use a type conversion function.) What datatype is the sum? num=23 textnum=\"57\" decimal=98.3 \n",
    "\n",
    "num=23\n",
    "textnum=\"57\"\n",
    "decimal=98.3\n",
    "\n",
    "print(\"type of num\",type(num))\n",
    "print(\"type of textnum\",type(textnum))\n",
    "print(\"type of decimal\",type(decimal))\n",
    "\n",
    "sum=num+int(textnum)+decimal\n",
    "print(sum)\n",
    "print(\"type of sum\",type(sum))"
   ]
  },
  {
   "cell_type": "code",
   "execution_count": 50,
   "id": "823ff8cd-93ec-4803-ad39-a40e756ba7ab",
   "metadata": {},
   "outputs": [
    {
     "name": "stdout",
     "output_type": "stream",
     "text": [
      "total number of minutes in an year =  525600\n"
     ]
    }
   ],
   "source": [
    "#calculate the number of minutes in a year using variables for each unit of time. print a statement that describes what your code does also. \n",
    "#Create three variables to store no of days in a year, minute in a hour, hours in a day, \n",
    "#then calculate the total minutes in a year and print the values (hint) \n",
    "#total number of minutes in an year =No.of days in an year * Hours in a day * Minutes in an hour\n",
    "\n",
    "years=365\n",
    "hours=24\n",
    "minutes=60\n",
    "\n",
    "total_no_of_minutes = years*hours*minutes\n",
    "print(\"total number of minutes in an year = \",total_no_of_minutes)"
   ]
  },
  {
   "cell_type": "code",
   "execution_count": 56,
   "id": "ce01f9b8-c603-4780-917a-9530e3fdf022",
   "metadata": {},
   "outputs": [
    {
     "name": "stdin",
     "output_type": "stream",
     "text": [
      "Please enter you name:  Anudin\n"
     ]
    },
    {
     "name": "stdout",
     "output_type": "stream",
     "text": [
      "Hi Anudin welcome to Python programming \n"
     ]
    }
   ],
   "source": [
    "#Write Python code that asks the user to enter his/her name and then output/prints his/her name with a greeting. An example runs of the program: \n",
    "#Please enter you name: Tony Hi Tony, welcome to Python programming :) \n",
    "\n",
    "name=input(\"Please enter you name: \")\n",
    "print(\"Hi\",name,\"welcome to Python programming \")\n",
    "\n"
   ]
  },
  {
   "cell_type": "code",
   "execution_count": 58,
   "id": "d2ccf359-1f15-42d1-b3b4-e323c8af385c",
   "metadata": {},
   "outputs": [
    {
     "name": "stdin",
     "output_type": "stream",
     "text": [
      "Please enter amount in pounds:  £ 100\n"
     ]
    },
    {
     "name": "stdout",
     "output_type": "stream",
     "text": [
      "£ 100.0 are $ 125.0\n"
     ]
    }
   ],
   "source": [
    "#Name your file: PoundsToDollars.py Write a program that asks the user to enter an amount in pounds (£) and the program \n",
    "#calculates and converts an amount in dollar ($) An example runs of the program: Please enter amount in pounds: XXX £ XXX are $ XXX\n",
    "\n",
    "\n",
    "pounds = float(input(\"Please enter amount in pounds:  £\"))\n",
    "exchange_rate = 1.25\n",
    "\n",
    "dollar = pounds * exchange_rate\n",
    "print(\"£\",pounds,\"are $\",dollar)\n"
   ]
  },
  {
   "cell_type": "code",
   "execution_count": null,
   "id": "d8c77139-c684-4f3f-8074-991f3f7491f0",
   "metadata": {},
   "outputs": [],
   "source": []
  }
 ],
 "metadata": {
  "kernelspec": {
   "display_name": "Python 3 (ipykernel)",
   "language": "python",
   "name": "python3"
  },
  "language_info": {
   "codemirror_mode": {
    "name": "ipython",
    "version": 3
   },
   "file_extension": ".py",
   "mimetype": "text/x-python",
   "name": "python",
   "nbconvert_exporter": "python",
   "pygments_lexer": "ipython3",
   "version": "3.13.2"
  }
 },
 "nbformat": 4,
 "nbformat_minor": 5
}
