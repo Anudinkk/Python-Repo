{
 "cells": [
  {
   "cell_type": "code",
   "execution_count": 4,
   "id": "c515072c-98da-4557-a612-4222f47fe2ba",
   "metadata": {},
   "outputs": [
    {
     "data": {
      "text/plain": [
       "5"
      ]
     },
     "execution_count": 4,
     "metadata": {},
     "output_type": "execute_result"
    }
   ],
   "source": [
    "# What does the len() function do in Python? Write a code example using len() to find the length of a list.\n",
    "\n",
    "# Answer\n",
    "# Len() function is a built-in function used to find the length of an element that passed inside the function\n",
    "\n",
    "lst = [3,44,23,56,78]\n",
    "len(lst) #Here it return the number of elements in the list \n"
   ]
  },
  {
   "cell_type": "code",
   "execution_count": 5,
   "id": "e3de373f-d1a5-4009-bab9-df34b790b1f9",
   "metadata": {},
   "outputs": [
    {
     "name": "stdout",
     "output_type": "stream",
     "text": [
      "Hello, [anudin]!\n"
     ]
    }
   ],
   "source": [
    "# Write a Python function greet(name) that takes a person's name as input and prints \"Hello, [name]!\".\n",
    "\n",
    "def greet(name):\n",
    "    print(f\"Hello, [{name}]!\")\n",
    "\n",
    "greet(\"anudin\")\n"
   ]
  },
  {
   "cell_type": "code",
   "execution_count": 41,
   "id": "08842ef7-cae7-489a-a400-6ebda646416e",
   "metadata": {},
   "outputs": [
    {
     "data": {
      "text/plain": [
       "98"
      ]
     },
     "execution_count": 41,
     "metadata": {},
     "output_type": "execute_result"
    }
   ],
   "source": [
    "# Write a Python function find_maximum(numbers) that takes a list of integers and returns the maximum value without using the built-in max() function. \n",
    "# Use a loop to iterate through the list and compare values.\n",
    "\n",
    "def find_maximum(n):\n",
    "    res=n[0]\n",
    "\n",
    "    for i in range(0,len(n)):\n",
    "            if n[i] > res:\n",
    "                res = n[i]\n",
    "    return res\n",
    "        \n",
    "    print(res)\n",
    "\n",
    "\n",
    "find_maximum([3,44,98,56,78])\n",
    "            \n",
    "        \n",
    "        \n",
    "    "
   ]
  },
  {
   "cell_type": "code",
   "execution_count": 44,
   "id": "07e68c93-1a4c-4721-bdfa-b2ccd7b09c62",
   "metadata": {},
   "outputs": [
    {
     "name": "stdout",
     "output_type": "stream",
     "text": [
      "printing local vaiable  :  200\n",
      "printing global vaiable :  100\n"
     ]
    }
   ],
   "source": [
    "# Explain the difference between local and global variables in a Python function. Write a program where a global variable and a local variable have \n",
    "# the same name and show how Python differentiates between them.\n",
    "\n",
    "# Answer\n",
    "\n",
    "# Local Variable - local variable are defined inside a function or a block of code and accessed with in that scope only\n",
    "# Global Variable - global variable are defined outside the function and can be accessed any where in the program\n",
    "\n",
    "num = 100 #Global Variable\n",
    "\n",
    "def display():\n",
    "    num = 200 #local variable\n",
    "    print(\"printing local vaiable  : \",num)\n",
    "\n",
    "display()\n",
    "\n",
    "print(\"printing global vaiable : \",num)"
   ]
  },
  {
   "cell_type": "code",
   "execution_count": 45,
   "id": "fae7dd23-7585-437f-b263-5380dee1b9d7",
   "metadata": {},
   "outputs": [
    {
     "name": "stdout",
     "output_type": "stream",
     "text": [
      "Area of rectangle : 50\n"
     ]
    }
   ],
   "source": [
    "# Create a function calculate_area(length, width=5) that calculates the area of a rectangle. If only the length is provided, the function should assume\n",
    "# the width is 5. Show how the function behaves when called with and without the width argument.\n",
    "\n",
    "def calculate_area(length, width=5):\n",
    "    Area = length * width\n",
    "    print(f\"Area of rectangle : {Area}\")\n",
    "\n",
    "calculate_area(10)\n"
   ]
  }
 ],
 "metadata": {
  "kernelspec": {
   "display_name": "Python 3 (ipykernel)",
   "language": "python",
   "name": "python3"
  },
  "language_info": {
   "codemirror_mode": {
    "name": "ipython",
    "version": 3
   },
   "file_extension": ".py",
   "mimetype": "text/x-python",
   "name": "python",
   "nbconvert_exporter": "python",
   "pygments_lexer": "ipython3",
   "version": "3.13.2"
  }
 },
 "nbformat": 4,
 "nbformat_minor": 5
}
