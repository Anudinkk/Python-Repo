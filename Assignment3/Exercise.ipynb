{
 "cells": [
  {
   "cell_type": "code",
   "execution_count": 3,
   "id": "1c9ee7e5-f864-4aec-a126-9def82bfc2bc",
   "metadata": {},
   "outputs": [
    {
     "name": "stdin",
     "output_type": "stream",
     "text": [
      "Enter your age :  69\n"
     ]
    },
    {
     "name": "stdout",
     "output_type": "stream",
     "text": [
      "Your ticket costs £2.0\n"
     ]
    }
   ],
   "source": [
    "# Exercise 2\n",
    "# A certain cinema currently sells tickets for a full price of 6 pounds, but always sells tickets for half price to people who are less than 16 years old,\n",
    "# and for a third of the price for people who are 60 years old or more.\n",
    "# An example run of the program (numbers in bold are typed in by the user)\n",
    "# Enter your age: 63\n",
    "# Your ticket costs £2.00\n",
    "\n",
    "ticket_price = 6.00\n",
    "age = int(input(\"Enter your age : \"))\n",
    "\n",
    "if age < 16:\n",
    "    print(f\"Your ticket costs £{ticket_price/2}\")\n",
    "elif age > 60:\n",
    "    print(f\"Your ticket costs £{ticket_price/3}\")\n",
    "else:\n",
    "    print(f\"Your ticket costs £{ticket_price}\")"
   ]
  },
  {
   "cell_type": "code",
   "execution_count": null,
   "id": "cf801dc6-893b-4f99-b071-bf5b27a4c9b9",
   "metadata": {},
   "outputs": [],
   "source": []
  },
  {
   "cell_type": "code",
   "execution_count": 4,
   "id": "de5598df-68ec-4e73-ab38-561982e4ed2b",
   "metadata": {},
   "outputs": [
    {
     "name": "stdin",
     "output_type": "stream",
     "text": [
      "Enter the 1st number:  6\n",
      "Enter the 2nd number:  7\n",
      "Enter the 3rd number:  4\n"
     ]
    },
    {
     "name": "stdout",
     "output_type": "stream",
     "text": [
      "7 is the greatest\n"
     ]
    }
   ],
   "source": [
    "# Exercise 4\n",
    "# Write a Python program to receive 3 numbers from the user and print the greatest among them.\n",
    "\n",
    "\n",
    "n1 = int(input(\"Enter the 1st number: \"))\n",
    "n2 = int(input(\"Enter the 2nd number: \"))\n",
    "n3 = int(input(\"Enter the 3rd number: \"))\n",
    "\n",
    "if n1 > n2 and n1 > n3:\n",
    "    print(f\"{n1} is the greatest\")\n",
    "elif n2 > n1 and n2 > n3:\n",
    "    print(f\"{n2} is the greatest\")\n",
    "else:\n",
    "    print(f\"{n3} is the greatest\")\n",
    "\n",
    "\n",
    "\n",
    "\n"
   ]
  },
  {
   "cell_type": "code",
   "execution_count": 24,
   "id": "c71d6dc1-2c78-4626-8459-1a198639a94f",
   "metadata": {},
   "outputs": [
    {
     "name": "stdin",
     "output_type": "stream",
     "text": [
      "Enter the number 5\n"
     ]
    },
    {
     "name": "stdout",
     "output_type": "stream",
     "text": [
      "factorial of 5 is 120\n"
     ]
    }
   ],
   "source": [
    "# Exercise 5\n",
    "# Find the factorial of a given number using loops(note the number is received from the user)\n",
    "\n",
    "n = int(input(\"Enter the number\"))\n",
    "\n",
    "fact = 1 \n",
    "if n == 0 or n == 1:\n",
    "    fact=1\n",
    "\n",
    "for i in range(1,n+1):\n",
    "    fact = fact*i\n",
    "    \n",
    "\n",
    "print(f\"factorial of {n} is {fact}\")"
   ]
  },
  {
   "cell_type": "code",
   "execution_count": 30,
   "id": "18cf23a9-6b62-402f-9108-3ccb5fb24f65",
   "metadata": {},
   "outputs": [
    {
     "name": "stdin",
     "output_type": "stream",
     "text": [
      "Enter the number 567\n"
     ]
    },
    {
     "name": "stdout",
     "output_type": "stream",
     "text": [
      "reverse of 567 is 765\n"
     ]
    }
   ],
   "source": [
    "# Exercise 6\n",
    "# Reverse a number using while loop\n",
    "\n",
    "n = int(input(\"Enter the number\"))\n",
    "num=n\n",
    "\n",
    "rev=0\n",
    "\n",
    "while n > 0:\n",
    "    digit= n % 10\n",
    "    rev = (rev*10)+digit\n",
    "    n = n // 10\n",
    "\n",
    "print(f\"reverse of {num} is {rev}\")"
   ]
  },
  {
   "cell_type": "code",
   "execution_count": 27,
   "id": "79380741-3eb5-4b8f-a1b4-4d0d8d89c5a7",
   "metadata": {},
   "outputs": [
    {
     "name": "stdin",
     "output_type": "stream",
     "text": [
      "Enter the number 5\n"
     ]
    },
    {
     "name": "stdout",
     "output_type": "stream",
     "text": [
      "5 * 1 = 5\n",
      "5 * 2 = 10\n",
      "5 * 3 = 15\n",
      "5 * 4 = 20\n",
      "5 * 5 = 25\n",
      "5 * 6 = 30\n",
      "5 * 7 = 35\n",
      "5 * 8 = 40\n",
      "5 * 9 = 45\n",
      "5 * 10 = 50\n"
     ]
    }
   ],
   "source": [
    "# Exercise 7\n",
    "# Finding the multiples of a number using loop\n",
    "\n",
    "n = int(input(\"Enter the number\"))\n",
    "\n",
    "for i in range(1,11):\n",
    "    print(f\"{n} * {i} = {n*i}\")"
   ]
  },
  {
   "cell_type": "code",
   "execution_count": 29,
   "id": "e3a4dcd8-a9ce-411a-9aad-916b4318047b",
   "metadata": {},
   "outputs": [
    {
     "name": "stdin",
     "output_type": "stream",
     "text": [
      "Enter the value :  finished\n"
     ]
    },
    {
     "name": "stdout",
     "output_type": "stream",
     "text": [
      "finished\n"
     ]
    },
    {
     "name": "stdin",
     "output_type": "stream",
     "text": [
      "Enter the value :  done\n"
     ]
    },
    {
     "name": "stdout",
     "output_type": "stream",
     "text": [
      "Done\n"
     ]
    }
   ],
   "source": [
    "# Exercise 8\n",
    "# Write a program to print the inputted value as it is and break the loop if the value is 'done'.\n",
    "# Example run of the program\n",
    "# :hello there\n",
    "# hello there\n",
    "# :finished\n",
    "# finished\n",
    "# :done\n",
    "# Done\n",
    "\n",
    "\n",
    "while True:\n",
    "    str = input(\"Enter the value : \")\n",
    "    \n",
    "    if str.lower() == 'done':\n",
    "        print(\"Done\")\n",
    "        break\n",
    "    print(str)\n",
    "    "
   ]
  },
  {
   "cell_type": "code",
   "execution_count": 33,
   "id": "66af6f8b-9231-47d5-963c-21610a08f049",
   "metadata": {},
   "outputs": [
    {
     "name": "stdout",
     "output_type": "stream",
     "text": [
      "1\n",
      "2\n",
      "Fizz\n",
      "4\n",
      "Buzz\n",
      "Fizz\n",
      "7\n",
      "8\n",
      "Fizz\n",
      "Buzz\n",
      "11\n",
      "Fizz\n",
      "13\n",
      "14\n",
      "FizzBuzz\n"
     ]
    }
   ],
   "source": [
    "# Exercise 9\n",
    "# Write a program that prints the numbers from 1 to 10. But for multiples of three\n",
    "# print \"Fizz\" instead of the number and for the multiple of five print \"Buzz\". For numbers which are multiples of both three and five print \"FizzBuzz\"\n",
    "\n",
    "\n",
    "for i in range(1,16):\n",
    "    if i % 3 == 0 and i % 5 == 0:\n",
    "        print(\"FizzBuzz\")\n",
    "    elif i % 3 == 0:\n",
    "        print(\"Fizz\")\n",
    "    elif i % 5 == 0:\n",
    "        print(\"Buzz\")\n",
    "    else:\n",
    "        print(i)"
   ]
  },
  {
   "cell_type": "code",
   "execution_count": 41,
   "id": "9cd1cac7-836f-4234-bfd0-5c0d4ff96785",
   "metadata": {},
   "outputs": [
    {
     "name": "stdout",
     "output_type": "stream",
     "text": [
      "5 4 3 2 1 \n",
      "\n",
      "4 3 2 1 \n",
      "\n",
      "3 2 1 \n",
      "\n",
      "2 1 \n",
      "\n",
      "1 \n",
      "\n"
     ]
    }
   ],
   "source": [
    "# Exercise 10\n",
    "# Write a program to print the following pattern:\n",
    "\n",
    "# 5 4 3 2 1\n",
    "# 4 3 2 1\n",
    "# 3 2 1\n",
    "# 2 1\n",
    "# 1\n",
    "\n",
    "\n",
    "n=5\n",
    "for i in range(n,0,-1):\n",
    "    for j in range(i,0,-1):\n",
    "        print(j, end=\" \")\n",
    "    print('\\n')\n",
    "    i=-1"
   ]
  }
 ],
 "metadata": {
  "kernelspec": {
   "display_name": "Python 3 (ipykernel)",
   "language": "python",
   "name": "python3"
  },
  "language_info": {
   "codemirror_mode": {
    "name": "ipython",
    "version": 3
   },
   "file_extension": ".py",
   "mimetype": "text/x-python",
   "name": "python",
   "nbconvert_exporter": "python",
   "pygments_lexer": "ipython3",
   "version": "3.13.2"
  }
 },
 "nbformat": 4,
 "nbformat_minor": 5
}
