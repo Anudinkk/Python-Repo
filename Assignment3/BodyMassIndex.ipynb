{
 "cells": [
  {
   "cell_type": "code",
   "execution_count": 13,
   "id": "3a38b814-b6a5-49ae-bb4d-5e2ca60a3847",
   "metadata": {},
   "outputs": [
    {
     "name": "stdin",
     "output_type": "stream",
     "text": [
      "Enter your weight in (kg) :  75\n",
      "Enter your height in (m) :  1.70\n"
     ]
    },
    {
     "name": "stdout",
     "output_type": "stream",
     "text": [
      "25.95155709342561\n",
      "You are in the Overweight range.\n"
     ]
    }
   ],
   "source": [
    "# Exercise 3\n",
    "# Name your file: BodyMassIndex.py\n",
    "# Write a program to calculate your BMI and give weight status. Body Mass Index (BMI) is an internationally used measurement to check if you are a healthy\n",
    "# weight for your height.The metric BMI formula accepts weight in kilograms and height in meters:\n",
    "# BMI= weight(kg)/height2(m2)\n",
    "# BMI Weight Status Categories table\n",
    "# BMI range - kg/m2   Category\n",
    "# Below 18.5                    Underweight\n",
    "# 18.5 -24.9         Normal\n",
    "# 25 - 29.9          Overweight\n",
    "# 30 & Above     Obese\n",
    "# An example run of the program (numbers in bold are typed in by the user)\n",
    "# Enter your weight in (kg): 75\n",
    "# Enter your height in (m): 1.70\n",
    "# Your BMI is: 25.95\n",
    "# You are in the “overweight” range.\n",
    "\n",
    "weight = float(input(\"Enter your weight in (kg) : \"))\n",
    "height = float(input(\"Enter your height in (m) : \"))\n",
    "\n",
    "\n",
    "BMI = weight / (height**2)\n",
    "print(BMI)\n",
    "\n",
    "if BMI < 18.5:\n",
    "    print(f\"You are in the Underweight range.\")\n",
    "elif BMI > 18.5 and BMI < 24.9:\n",
    "    print(f\"You are in the Normal range.\")\n",
    "elif BMI > 25 and BMI < 29.9:\n",
    "    print(f\"You are in the Overweight range.\")\n",
    "else:\n",
    "    print(f\"You are in the Obese range.\")\n",
    "\n",
    "    \n"
   ]
  },
  {
   "cell_type": "code",
   "execution_count": null,
   "id": "5f1998a1-8e7d-41cf-ad9d-eecb37a113c0",
   "metadata": {},
   "outputs": [],
   "source": []
  }
 ],
 "metadata": {
  "kernelspec": {
   "display_name": "Python 3 (ipykernel)",
   "language": "python",
   "name": "python3"
  },
  "language_info": {
   "codemirror_mode": {
    "name": "ipython",
    "version": 3
   },
   "file_extension": ".py",
   "mimetype": "text/x-python",
   "name": "python",
   "nbconvert_exporter": "python",
   "pygments_lexer": "ipython3",
   "version": "3.13.2"
  }
 },
 "nbformat": 4,
 "nbformat_minor": 5
}
