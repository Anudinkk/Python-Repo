{
 "cells": [
  {
   "cell_type": "code",
   "execution_count": 2,
   "id": "91072362-1ddb-43b6-a82b-bbe2a9cf42cd",
   "metadata": {},
   "outputs": [
    {
     "name": "stdin",
     "output_type": "stream",
     "text": [
      "Enter a month :  3\n"
     ]
    },
    {
     "name": "stdout",
     "output_type": "stream",
     "text": [
      "Month 3 is March\n"
     ]
    }
   ],
   "source": [
    "# Name your file: MonthNames.py\n",
    "# Write a program that reads an integer value between 1 and 12 from the user and prints output the corresponding month of the year.\n",
    "# An example run of the program (numbers in bold are typed in by the user)\n",
    "# Enter the month: 3\n",
    "# Month 3 is March\n",
    "\n",
    "\n",
    "months = ['January','February','March','April','May','June','July','August','September','October','November','December']\n",
    "\n",
    "n = int(input(\"Enter a month : \"))\n",
    "\n",
    "if n >= 1 and n <= 12:\n",
    "    print(f\"Month {n} is {months[n-1]}\")\n",
    "else:\n",
    "    print(\"Invalid month\")\n",
    "\n"
   ]
  },
  {
   "cell_type": "code",
   "execution_count": null,
   "id": "cf339ddc-e3a1-4212-8807-32f284b8ccbb",
   "metadata": {},
   "outputs": [],
   "source": []
  }
 ],
 "metadata": {
  "kernelspec": {
   "display_name": "Python 3 (ipykernel)",
   "language": "python",
   "name": "python3"
  },
  "language_info": {
   "codemirror_mode": {
    "name": "ipython",
    "version": 3
   },
   "file_extension": ".py",
   "mimetype": "text/x-python",
   "name": "python",
   "nbconvert_exporter": "python",
   "pygments_lexer": "ipython3",
   "version": "3.13.2"
  }
 },
 "nbformat": 4,
 "nbformat_minor": 5
}
